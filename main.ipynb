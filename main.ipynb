{
 "cells": [
  {
   "cell_type": "code",
   "execution_count": null,
   "id": "edbbf29c",
   "metadata": {},
   "outputs": [],
   "source": [
    "!pip install nltk"
   ]
  },
  {
   "cell_type": "code",
   "execution_count": null,
   "id": "13841655",
   "metadata": {},
   "outputs": [],
   "source": [
    "!pip install wordcloud"
   ]
  },
  {
   "cell_type": "code",
   "execution_count": null,
   "id": "293e51dd",
   "metadata": {},
   "outputs": [],
   "source": [
    "# Importing necessary libraries\n",
    "import pandas as pd\n",
    "import numpy as np\n",
    "import matplotlib.pyplot as plt\n",
    "import nltk\n",
    "from nltk.corpus import stopwords\n",
    "from nltk.stem import PorterStemmer\n",
    "from sklearn.model_selection import train_test_split\n",
    "from sklearn.feature_extraction.text import CountVectorizer, TfidfVectorizer\n",
    "from sklearn.naive_bayes import MultinomialNB\n",
    "from sklearn.metrics import accuracy_score, confusion_matrix, classification_report\n",
    "from wordcloud import WordCloud\n",
    "\n",
    "# Load the dataset into a pandas DataFrame\n",
    "data = pd.read_csv(\"IMDB Dataset.csv\")\n"
   ]
  },
  {
   "cell_type": "code",
   "execution_count": null,
   "id": "479eec84",
   "metadata": {},
   "outputs": [],
   "source": [
    "data.head()"
   ]
  },
  {
   "cell_type": "markdown",
   "id": "538fff24",
   "metadata": {},
   "source": [
    "# Dataset Preparation\n"
   ]
  },
  {
   "cell_type": "code",
   "execution_count": null,
   "id": "1f8306ce",
   "metadata": {},
   "outputs": [],
   "source": [
    "# Display the first 10 rows of the dataset\n",
    "print(data.head(10))\n",
    "\n",
    "# Check for missing values\n",
    "print(data.isnull().sum())\n",
    "\n",
    "# Check for duplicates\n",
    "print(data.duplicated().sum())\n"
   ]
  },
  {
   "cell_type": "code",
   "execution_count": null,
   "id": "fd4634ea",
   "metadata": {},
   "outputs": [],
   "source": [
    "# Convert text to lowercase\n",
    "data['review'] = data['review'].str.lower()\n",
    "\n",
    "# Remove punctuation\n",
    "data['review'] = data['review'].str.replace('[^\\w\\s]', '')\n",
    "\n",
    "# Tokenization and Stopword removal\n",
    "nltk.download('stopwords')\n",
    "stop_words = set(stopwords.words('english'))\n",
    "data['review'] = data['review'].apply(lambda x: ' '.join([word for word in x.split() if word not in stop_words]))\n",
    "\n",
    "# Stemming (reducing words to their base forms)\n",
    "stemmer = PorterStemmer()\n",
    "data['review'] = data['review'].apply(lambda x: ' '.join([stemmer.stem(word) for word in x.split()]))\n"
   ]
  },
  {
   "cell_type": "markdown",
   "id": "f7d281f1",
   "metadata": {},
   "source": [
    "# Tokenization"
   ]
  },
  {
   "cell_type": "code",
   "execution_count": null,
   "id": "12ef18a5",
   "metadata": {},
   "outputs": [],
   "source": [
    "# Splitting the dataset into features (X) and target (y)\n",
    "X = data['review']\n",
    "y = data['sentiment']\n",
    "\n",
    "# Convert text data into numerical feature vectors using TF-IDF\n",
    "vectorizer = TfidfVectorizer(max_features=30000)  \n",
    "X_tfidf = vectorizer.fit_transform(X).toarray()\n"
   ]
  },
  {
   "cell_type": "markdown",
   "id": "f03fec8b",
   "metadata": {},
   "source": [
    "# Naive Bayes Classification"
   ]
  },
  {
   "cell_type": "code",
   "execution_count": null,
   "id": "dca283bc",
   "metadata": {},
   "outputs": [],
   "source": [
    "# Split the dataset into training and testing sets\n",
    "X_train, X_test, y_train, y_test = train_test_split(X_tfidf, y, test_size=0.2, random_state=42)\n",
    "\n",
    "# Train the Naive Bayes classifier\n",
    "naive_bayes_classifier = MultinomialNB()\n",
    "naive_bayes_classifier.fit(X_train, y_train)\n",
    "\n",
    "# Evaluate the performance of the classifier\n",
    "y_pred = naive_bayes_classifier.predict(X_test)\n",
    "accuracy = accuracy_score(y_test, y_pred)\n",
    "conf_matrix = confusion_matrix(y_test, y_pred)\n",
    "class_report = classification_report(y_test, y_pred)\n",
    "\n",
    "print(f\"Accuracy: {accuracy}\")\n",
    "print(\"Confusion Matrix:\")\n",
    "print(conf_matrix)\n",
    "print(\"Classification Report:\")\n",
    "print(class_report)\n"
   ]
  },
  {
   "cell_type": "markdown",
   "id": "bb6ee1a5",
   "metadata": {},
   "source": [
    "# Prediction with New Data"
   ]
  },
  {
   "cell_type": "code",
   "execution_count": null,
   "id": "a254e034",
   "metadata": {},
   "outputs": [],
   "source": [
    "def predict_sentiment(review):\n",
    "    # Preprocess the review\n",
    "    review = review.lower().replace('[^\\w\\s]', '')\n",
    "    review = ' '.join([word for word in review.split() if word not in stop_words])\n",
    "    review = ' '.join([stemmer.stem(word) for word in review.split()])\n",
    "\n",
    "    # Convert the review into numerical feature vector using TF-IDF\n",
    "    review_tfidf = vectorizer.transform([review]).toarray()\n",
    "\n",
    "    # Predict the sentiment\n",
    "    prediction = naive_bayes_classifier.predict(review_tfidf)\n",
    "\n",
    "    return prediction[0]\n"
   ]
  },
  {
   "cell_type": "code",
   "execution_count": null,
   "id": "1cb90c25",
   "metadata": {},
   "outputs": [],
   "source": [
    "# Generate a word cloud visualization for positive and negative reviews separately\n",
    "positive_reviews = data[data['sentiment'] == 'positive']['review'].values\n",
    "negative_reviews = data[data['sentiment'] == 'negative']['review'].values\n",
    "\n",
    "def generate_word_cloud(reviews, title):\n",
    "    wordcloud = WordCloud(width=800, height=400, background_color='white').generate(' '.join(reviews))\n",
    "    plt.figure(figsize=(10, 5))\n",
    "    plt.imshow(wordcloud, interpolation='bilinear')\n",
    "    plt.axis('off')\n",
    "    plt.title(title)\n",
    "    plt.show()\n",
    "\n",
    "generate_word_cloud(positive_reviews, \"Word Cloud - Positive Reviews\")\n",
    "generate_word_cloud(negative_reviews, \"Word Cloud - Negative Reviews\")\n"
   ]
  },
  {
   "cell_type": "code",
   "execution_count": null,
   "id": "53f7956c",
   "metadata": {},
   "outputs": [],
   "source": []
  },
  {
   "cell_type": "code",
   "execution_count": null,
   "id": "bfec824d",
   "metadata": {},
   "outputs": [],
   "source": []
  }
 ],
 "metadata": {
  "kernelspec": {
   "display_name": "Python 3 (ipykernel)",
   "language": "python",
   "name": "python3"
  },
  "language_info": {
   "codemirror_mode": {
    "name": "ipython",
    "version": 3
   },
   "file_extension": ".py",
   "mimetype": "text/x-python",
   "name": "python",
   "nbconvert_exporter": "python",
   "pygments_lexer": "ipython3",
   "version": "3.10.12"
  }
 },
 "nbformat": 4,
 "nbformat_minor": 5
}
